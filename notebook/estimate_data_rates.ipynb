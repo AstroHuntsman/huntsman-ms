{
 "cells": [
  {
   "cell_type": "code",
   "execution_count": 48,
   "metadata": {},
   "outputs": [],
   "source": [
    "from gunagala.config import load_config\n",
    "from gunagala.imager import create_imagers\n",
    "from scipy.special import erf\n",
    "import numpy as np\n",
    "import astropy.units as u"
   ]
  },
  {
   "cell_type": "code",
   "execution_count": 6,
   "metadata": {},
   "outputs": [
    {
     "name": "stderr",
     "output_type": "stream",
     "text": [
      "/Users/lspitler/Documents/gunagala/gunagala/config.py:138: YAMLLoadWarning: calling yaml.load() without Loader=... is deprecated, as the default Loader is unsafe. Please read https://msg.pyyaml.org/load for full details.\n",
      "  c = yaml.load(f.read())\n"
     ]
    },
    {
     "name": "stdout",
     "output_type": "stream",
     "text": [
      "dict_keys(['canon_sbig_dark', 'canon_sbig_bright', 'ase_2016', 'ase_2017', 'one_zwo_rasa36cm', 'one_zwo_canon_full_moon', 'one_zwo_canon_nosky', 'one_zwo_canon_daytime', 'one_zwo_canon'])\n"
     ]
    }
   ],
   "source": [
    "ms_imagers = create_imagers(load_config('/Users/lspitler/Downloads/performance_detailed.yaml'))\n",
    "print(ms_imagers.keys())\n",
    "imager = ms_imagers['one_zwo_canon_full_moon']"
   ]
  },
  {
   "cell_type": "code",
   "execution_count": 8,
   "metadata": {},
   "outputs": [
    {
     "data": {
      "text/latex": [
       "$1.5294 \\; \\mathrm{\\frac{e^{-}}{pix}}$"
      ],
      "text/plain": [
       "<Quantity 1.5294 electron / pix>"
      ]
     },
     "execution_count": 8,
     "metadata": {},
     "output_type": "execute_result"
    }
   ],
   "source": [
    "imager.camera.read_noise"
   ]
  },
  {
   "cell_type": "code",
   "execution_count": 53,
   "metadata": {},
   "outputs": [
    {
     "data": {
      "text/latex": [
       "$0.06027301 \\; \\mathrm{\\frac{adu}{pix}}$"
      ],
      "text/plain": [
       "<Quantity 0.06027301 adu / pix>"
      ]
     },
     "execution_count": 53,
     "metadata": {},
     "output_type": "execute_result"
    }
   ],
   "source": [
    "exptime = 0.005 * u.second\n",
    "sky_rate_adu = imager.sky_rate['g'] / imager.camera.gain\n",
    "sky_adu = sky_rate_adu * exptime\n",
    "sky_adu"
   ]
  },
  {
   "cell_type": "code",
   "execution_count": 85,
   "metadata": {},
   "outputs": [
    {
     "data": {
      "text/plain": [
       "0.24550562080836655"
      ]
     },
     "execution_count": 85,
     "metadata": {},
     "output_type": "execute_result"
    }
   ],
   "source": [
    "sky_adu.value / np.sqrt(sky_adu.value) "
   ]
  },
  {
   "cell_type": "code",
   "execution_count": 67,
   "metadata": {},
   "outputs": [
    {
     "data": {
      "text/latex": [
       "$43 \\; \\mathrm{\\frac{adu}{pix}}$"
      ],
      "text/plain": [
       "<Quantity 43. adu / pix>"
      ]
     },
     "execution_count": 67,
     "metadata": {},
     "output_type": "execute_result"
    }
   ],
   "source": [
    "imager.camera.bias"
   ]
  },
  {
   "cell_type": "code",
   "execution_count": 65,
   "metadata": {},
   "outputs": [
    {
     "data": {
      "text/latex": [
       "$1.5294 \\; \\mathrm{\\frac{e^{-}}{pix}}$"
      ],
      "text/plain": [
       "<Quantity 1.5294 electron / pix>"
      ]
     },
     "execution_count": 65,
     "metadata": {},
     "output_type": "execute_result"
    }
   ],
   "source": [
    "imager.camera.read_noise"
   ]
  },
  {
   "cell_type": "code",
   "execution_count": 69,
   "metadata": {},
   "outputs": [
    {
     "data": {
      "text/latex": [
       "$2.1628982 \\; \\mathrm{\\frac{e^{-}}{pix}}$"
      ],
      "text/plain": [
       "<Quantity 2.16289822 electron / pix>"
      ]
     },
     "execution_count": 69,
     "metadata": {},
     "output_type": "execute_result"
    }
   ],
   "source": [
    "noise_of_diff_e = np.sqrt(imager.camera.read_noise**2 + imager.camera.read_noise**2)\n",
    "noise_of_diff_e"
   ]
  },
  {
   "cell_type": "code",
   "execution_count": 66,
   "metadata": {},
   "outputs": [
    {
     "data": {
      "text/latex": [
       "$1.5083333 \\times 10^{-5} \\; \\mathrm{\\frac{e^{-}}{pix}}$"
      ],
      "text/plain": [
       "<Quantity 1.5083333e-05 electron / pix>"
      ]
     },
     "execution_count": 66,
     "metadata": {},
     "output_type": "execute_result"
    }
   ],
   "source": [
    "dark_level = imager.camera.dark_current * exptime\n",
    "dark_level"
   ]
  },
  {
   "cell_type": "code",
   "execution_count": 62,
   "metadata": {},
   "outputs": [
    {
     "data": {
      "text/latex": [
       "$1.5294049 \\; \\mathrm{\\frac{e^{-}^{1/2}}{pix^{1/2}}}$"
      ],
      "text/plain": [
       "<Quantity 1.52940493 electron(1/2) / pix(1/2)>"
      ]
     },
     "execution_count": 62,
     "metadata": {},
     "output_type": "execute_result"
    }
   ],
   "source": [
    "readnoise = imager.camera.read_noise \n",
    "single_image_error_e = np.sqrt(imager.camera.read_noise**2 + dark_level)\n",
    "single_image_error_e"
   ]
  },
  {
   "cell_type": "code",
   "execution_count": 70,
   "metadata": {},
   "outputs": [
    {
     "data": {
      "text/latex": [
       "$5.5105687 \\; \\mathrm{\\frac{adu}{pix}}$"
      ],
      "text/plain": [
       "<Quantity 5.51056872 adu / pix>"
      ]
     },
     "execution_count": 70,
     "metadata": {},
     "output_type": "execute_result"
    }
   ],
   "source": [
    "noise_of_diff = np.sqrt(readnoise_adu**2 + readnoise_adu**2)\n",
    "noise_of_diff"
   ]
  },
  {
   "cell_type": "code",
   "execution_count": 2,
   "metadata": {},
   "outputs": [
    {
     "name": "stdout",
     "output_type": "stream",
     "text": [
      "20181312\n",
      "40362624.0\n",
      "30271968.0\n"
     ]
    }
   ],
   "source": [
    "bits_per_pixel_camera = 12 # bits\n",
    "bits_per_pixel = 16 # bits\n",
    "dimen_y = 5496\n",
    "dimen_x = 3672\n",
    "total_pixels = dimen_y * dimen_x\n",
    "total_memory_camera = bits_per_pixel_camera * total_pixels\n",
    "total_memory = bits_per_pixel * total_pixels\n",
    "print(total_pixels)\n",
    "print(total_memory/8)\n",
    "print(total_memory_camera/8)"
   ]
  },
  {
   "cell_type": "code",
   "execution_count": 10,
   "metadata": {},
   "outputs": [
    {
     "name": "stdout",
     "output_type": "stream",
     "text": [
      "2.906108928\n",
      "8.718326784\n"
     ]
    }
   ],
   "source": [
    "# per night\n",
    "\n",
    "total_memory_night = 1 * 3600 * 20 * total_memory\n",
    "\n",
    "# terabyte\n",
    "print(total_memory_night/8 / 1e12)\n",
    "\n",
    "# full day: night + day\n",
    "print(3 * total_memory_night/8 / 1e12)\n"
   ]
  },
  {
   "cell_type": "markdown",
   "metadata": {},
   "source": [
    "### Compute the "
   ]
  },
  {
   "cell_type": "code",
   "execution_count": 87,
   "metadata": {},
   "outputs": [
    {
     "data": {
      "text/plain": [
       "5.785004807159016"
      ]
     },
     "execution_count": 87,
     "metadata": {},
     "output_type": "execute_result"
    }
   ],
   "source": [
    "n_sigma = 5\n",
    "total_pixels * 0.5 * (1.-erf(n_sigma / np.sqrt(2.)) )"
   ]
  },
  {
   "cell_type": "code",
   "execution_count": null,
   "metadata": {},
   "outputs": [],
   "source": [
    "n_pixels_fitting = 20\n",
    "noise_per_pixel = noise_of_diff"
   ]
  }
 ],
 "metadata": {
  "kernelspec": {
   "display_name": "Python 3",
   "language": "python",
   "name": "python3"
  },
  "language_info": {
   "codemirror_mode": {
    "name": "ipython",
    "version": 3
   },
   "file_extension": ".py",
   "mimetype": "text/x-python",
   "name": "python",
   "nbconvert_exporter": "python",
   "pygments_lexer": "ipython3",
   "version": "3.7.3"
  }
 },
 "nbformat": 4,
 "nbformat_minor": 4
}
